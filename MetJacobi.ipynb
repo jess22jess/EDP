{
  "nbformat": 4,
  "nbformat_minor": 0,
  "metadata": {
    "colab": {
      "provenance": [],
      "authorship_tag": "ABX9TyMtaBts+ZDp6ZvPgjQRTogz",
      "include_colab_link": true
    },
    "kernelspec": {
      "name": "python3",
      "display_name": "Python 3"
    },
    "language_info": {
      "name": "python"
    }
  },
  "cells": [
    {
      "cell_type": "markdown",
      "metadata": {
        "id": "view-in-github",
        "colab_type": "text"
      },
      "source": [
        "<a href=\"https://colab.research.google.com/github/jess22jess/EDP/blob/main/MetJacobi.ipynb\" target=\"_parent\"><img src=\"https://colab.research.google.com/assets/colab-badge.svg\" alt=\"Open In Colab\"/></a>"
      ]
    },
    {
      "cell_type": "code",
      "execution_count": 4,
      "metadata": {
        "colab": {
          "base_uri": "https://localhost:8080/"
        },
        "id": "NMJy93OFXGVQ",
        "outputId": "9fa54bfe-aa5f-4f65-982f-03191baa60bb"
      },
      "outputs": [
        {
          "output_type": "stream",
          "name": "stdout",
          "text": [
            "MÉTODO DE JACOBI - MISMO VALOR INICIAL\n",
            "==================================================\n",
            "Valor inicial: [0.25925926 0.25925926 0.25925926 0.25925926]\n",
            "\n",
            "Iteración  1: 0.129630  0.296296  0.351852  0.518519  Error: 0.259259\n",
            "Iteración  2: 0.162037  0.328704  0.384259  0.550926  Error: 0.032407\n",
            "Iteración  3: 0.178241  0.344907  0.400463  0.567130  Error: 0.016204\n",
            "Iteración  4: 0.186343  0.353009  0.408565  0.575231  Error: 0.008102\n",
            "Iteración  5: 0.190394  0.357060  0.412616  0.579282  Error: 0.004051\n",
            "Iteración  6: 0.192419  0.359086  0.414641  0.581308  Error: 0.002025\n",
            "Iteración  7: 0.193432  0.360098  0.415654  0.582321  Error: 0.001013\n",
            "Iteración  8: 0.193938  0.360605  0.416160  0.582827  Error: 0.000506\n",
            "Iteración  9: 0.194191  0.360858  0.416413  0.583080  Error: 0.000253\n",
            "Iteración 10: 0.194318  0.360985  0.416540  0.583207  Error: 0.000127\n",
            "Iteración 11: 0.194381  0.361048  0.416603  0.583270  Error: 0.000063\n",
            "Iteración 12: 0.194413  0.361079  0.416635  0.583302  Error: 0.000032\n",
            "Iteración 13: 0.194429  0.361095  0.416651  0.583318  Error: 0.000016\n",
            "Iteración 14: 0.194437  0.361103  0.416659  0.583325  Error: 0.000008\n",
            "\n",
            "✓ Convergencia en 14 iteraciones\n"
          ]
        }
      ],
      "source": [
        "import numpy as np\n",
        "\n",
        "def jacobi_comparacion(A, b, x0, tol=1e-5, max_iter=100):\n",
        "    n = len(b)\n",
        "    x = x0.copy()\n",
        "\n",
        "    print(\"MÉTODO DE JACOBI - MISMO VALOR INICIAL\")\n",
        "    print(\"=\" * 50)\n",
        "    print(f\"Valor inicial: {x0}\")\n",
        "    print()\n",
        "\n",
        "    for k in range(max_iter):\n",
        "        x_nuevo = np.zeros(n)\n",
        "\n",
        "        for i in range(n):\n",
        "            suma = 0\n",
        "            for j in range(n):\n",
        "                if j != i:\n",
        "                    suma += A[i,j] * x[j]\n",
        "            x_nuevo[i] = (b[i] - suma) / A[i,i]\n",
        "\n",
        "        error = max(abs(x_nuevo - x))\n",
        "\n",
        "        print(f\"Iteración {k+1:2d}: \", end=\"\")\n",
        "        for val in x_nuevo:\n",
        "            print(f\"{val:8.6f}  \", end=\"\")\n",
        "        print(f\"Error: {error:.6f}\")\n",
        "\n",
        "        if error < tol:\n",
        "            print(f\"\\n✓ Convergencia en {k+1} iteraciones\")\n",
        "            return x_nuevo\n",
        "\n",
        "        x = x_nuevo\n",
        "\n",
        "    return x\n",
        "\n",
        "\n",
        "A = np.array([[4, -1, -1, 0],\n",
        "              [-1, 4, 0, -1],\n",
        "              [-1, 0, 4, -1],\n",
        "              [0, -1, -1, 4]])\n",
        "\n",
        "b = np.array([0, 2/3, 8/9, 14/9])\n",
        "x0 = np.array([7/27, 7/27, 7/27, 7/27])\n",
        "\n",
        "solucion = jacobi_comparacion(A, b, x0)"
      ]
    }
  ]
}