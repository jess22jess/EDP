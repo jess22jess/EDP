{
  "nbformat": 4,
  "nbformat_minor": 0,
  "metadata": {
    "colab": {
      "provenance": [],
      "authorship_tag": "ABX9TyP0MRI7hySVC09rZDh8Nagw",
      "include_colab_link": true
    },
    "kernelspec": {
      "name": "python3",
      "display_name": "Python 3"
    },
    "language_info": {
      "name": "python"
    }
  },
  "cells": [
    {
      "cell_type": "markdown",
      "metadata": {
        "id": "view-in-github",
        "colab_type": "text"
      },
      "source": [
        "<a href=\"https://colab.research.google.com/github/jess22jess/EDP/blob/main/Formas_Can%C3%B3nicas_I.ipynb\" target=\"_parent\"><img src=\"https://colab.research.google.com/assets/colab-badge.svg\" alt=\"Open In Colab\"/></a>"
      ]
    },
    {
      "cell_type": "code",
      "execution_count": 2,
      "metadata": {
        "colab": {
          "base_uri": "https://localhost:8080/"
        },
        "id": "RMhJQkOXgLYl",
        "outputId": "c840e128-8ada-4305-8472-c9faa3843dd1"
      },
      "outputs": [
        {
          "output_type": "stream",
          "name": "stdout",
          "text": [
            "Tipo de EDP: Hiperbólica\n",
            "\n",
            " EDP en forma canónica:\n",
            "0\n"
          ]
        }
      ],
      "source": [
        "import sympy as sp\n",
        "\n",
        "# Variables\n",
        "x, y = sp.symbols('x y')\n",
        "xi, eta = sp.symbols('xi eta')\n",
        "u = sp.Function('u')(x, y)\n",
        "\n",
        "# Derivadas\n",
        "uxx = sp.diff(u, x, 2)\n",
        "uxy = sp.diff(u, x, y)\n",
        "uyy = sp.diff(u, y, 2)\n",
        "\n",
        "# EDP\n",
        "eq = uxx - 3*uxy - 10*uyy\n",
        "\n",
        "# 1. Tipo de EDP\n",
        "A, B, C = 1, -3, -10\n",
        "D = B**2 - 4*A*C\n",
        "print(\"Tipo de EDP:\", \"Hiperbólica\" if D > 0 else \"Parabólica\" if D == 0 else \"Elíptica\")\n",
        "\n",
        "# 2. Cambio de variables\n",
        "xi_expr = -(B + sp.sqrt(D))*x + 2*A*y\n",
        "eta_expr = -(B - sp.sqrt(D))*x + 2*A*y\n",
        "\n",
        "# Sustituimos x, y en función de xi, eta\n",
        "sol = sp.solve([xi - xi_expr, eta - eta_expr], (x, y))\n",
        "x_sub = sol[x]\n",
        "y_sub = sol[y]\n",
        "\n",
        "# Nueva función u(xi, eta)\n",
        "U = sp.Function('U')(xi, eta)\n",
        "\n",
        "# Derivadas con regla de la cadena\n",
        "ux = sp.diff(U, xi)*sp.diff(xi_expr, x) + sp.diff(U, eta)*sp.diff(eta_expr, x)\n",
        "uy = sp.diff(U, xi)*sp.diff(xi_expr, y) + sp.diff(U, eta)*sp.diff(eta_expr, y)\n",
        "\n",
        "uxx = sp.diff(ux, x)\n",
        "uxy = sp.diff(ux, y)\n",
        "uyy = sp.diff(uy, y)\n",
        "\n",
        "# Sustitución en la ecuación original\n",
        "eq_trans = uxx - 3*uxy - 10*uyy\n",
        "eq_canonica = eq_trans.subs({x: x_sub, y: y_sub, u: U})\n",
        "eq_canonica = sp.simplify(eq_canonica)\n",
        "\n",
        "# Forma canónica\n",
        "print(\"\\n EDP en forma canónica:\")\n",
        "sp.pprint(eq_canonica)\n"
      ]
    }
  ]
}